{
 "cells": [
  {
   "cell_type": "code",
   "execution_count": null,
   "metadata": {},
   "outputs": [],
   "source": [
    "https://www.youtube.com/watch?v=JgT1mUI7N78&list=PLY9pe3iUjRrRr7v0_t__Vwcq1RjL7y7FD"
   ]
  },
  {
   "cell_type": "code",
   "execution_count": null,
   "metadata": {},
   "outputs": [],
   "source": [
    "Hadoop\n",
    "\n",
    "Bigdata의 정의 - 서버 한대로 처리할 수 없는 규모의 데이터(정의가 다양하다고 생각함.\n",
    "                                     나는 3V생각했음) Volume Velocity Variety\n"
   ]
  },
  {
   "cell_type": "code",
   "execution_count": null,
   "metadata": {},
   "outputs": [],
   "source": [
    "HDFS\n",
    "                r job 할당\n",
    "NameNode - JobTracker = HDFS  메타데이터 관리, 클라이언트가 HDFS 에 접근할수 있도록 처리\n",
    "    ㄴ Secondary NameNode : NameNode Image update\n",
    "\n",
    "DataNode 데이터가 블록나눠 여러대의 데이터 노드로 분산되어 저장됨"
   ]
  },
  {
   "cell_type": "code",
   "execution_count": null,
   "metadata": {},
   "outputs": [],
   "source": [
    "YARN "
   ]
  }
 ],
 "metadata": {
  "kernelspec": {
   "display_name": "Python 3",
   "language": "python",
   "name": "python3"
  },
  "language_info": {
   "codemirror_mode": {
    "name": "ipython",
    "version": 3
   },
   "file_extension": ".py",
   "mimetype": "text/x-python",
   "name": "python",
   "nbconvert_exporter": "python",
   "pygments_lexer": "ipython3",
   "version": "3.6.5"
  }
 },
 "nbformat": 4,
 "nbformat_minor": 2
}
