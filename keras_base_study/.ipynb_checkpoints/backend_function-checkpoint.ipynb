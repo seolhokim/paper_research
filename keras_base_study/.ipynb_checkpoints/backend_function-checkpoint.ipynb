{
 "cells": [
  {
   "cell_type": "code",
   "execution_count": null,
   "metadata": {},
   "outputs": [],
   "source": [
    "#K.gredients K.function \n",
    "#https://keras.io/getting-started/faq/\n",
    "\n"
   ]
  },
  {
   "cell_type": "code",
   "execution_count": null,
   "metadata": {},
   "outputs": [],
   "source": [
    "#K.function\n",
    "\n",
    "#you can build a Keras function that will return the output of a certain layer given a certain input\n",
    "#example\n",
    "get_3rd_layer_output = K.function([model.layers[0].input],\n",
    "                                  [model.layers[3].output])\n",
    "layer_output = get_3rd_layer_output([x])[0]\n",
    "\n",
    "#if test this model, than, i have to put K.learning_phase(), because of stopping Dropout or BatchNormalization, etc\n",
    "#example\n",
    "get_3rd_layer_output = K.function([model.layers[0].input, K.learning_phase()],\n",
    "                                  [model.layers[3].output])"
   ]
  },
  {
   "cell_type": "code",
   "execution_count": null,
   "metadata": {},
   "outputs": [],
   "source": [
    "#K.gradients \n",
    "keras.backend.gradients(loss, variables)\n",
    "\n",
    "Returns the gradients of loss w.r.t. variables."
   ]
  },
  {
   "cell_type": "code",
   "execution_count": null,
   "metadata": {},
   "outputs": [],
   "source": [
    "#model.get_layer(\"name\")\n",
    "\n",
    "grad-CAM 알고리즘\n",
    "x : images #shape = (1,224,224,3)\n",
    "model : model \n",
    "output_vector = model.output[:,class_num]\n",
    "last_conv_layer = model.get_layer(\"last_conv\")\n",
    "grads = K.gradients(output_vector,last_conv_layer.output )[0]\n",
    "pooled_grads = K.means(grads, axis =(0,1,2))\n",
    "\n",
    "iterate = K.function([model.input], [pooled_grads, last_cov_layer.output[0]])\n",
    "pooled_grads_value, conv_layer_output_value = iterate([x])\n",
    "\n",
    "for i in range(512):\n",
    "    conv_layer_output_value[:,:,i] *= pooled_grads_values[i]\n",
    "    \n",
    "heatmap = np.mean(conv_layer_output_value,axis=01)"
   ]
  }
 ],
 "metadata": {
  "kernelspec": {
   "display_name": "Python 3",
   "language": "python",
   "name": "python3"
  },
  "language_info": {
   "codemirror_mode": {
    "name": "ipython",
    "version": 3
   },
   "file_extension": ".py",
   "mimetype": "text/x-python",
   "name": "python",
   "nbconvert_exporter": "python",
   "pygments_lexer": "ipython3",
   "version": "3.6.5"
  }
 },
 "nbformat": 4,
 "nbformat_minor": 2
}
