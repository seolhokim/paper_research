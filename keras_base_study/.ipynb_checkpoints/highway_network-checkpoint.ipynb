{
 "cells": [
  {
   "cell_type": "code",
   "execution_count": null,
   "metadata": {},
   "outputs": [],
   "source": [
    "#deep한 layer들을 initialize 하기에 어려움을 겪음.\n"
   ]
  },
  {
   "cell_type": "code",
   "execution_count": null,
   "metadata": {},
   "outputs": [],
   "source": [
    "http://lazyer.tistory.com/8"
   ]
  },
  {
   "cell_type": "code",
   "execution_count": null,
   "metadata": {},
   "outputs": [],
   "source": [
    "notice\n",
    "bold : Vectors, Matrices\n",
    "capital letters : transform function\n",
    "0, 1 : Vectors of zeros and ones\n",
    "I : Identify matrix\n",
    "σ(x) : sigmoid of x"
   ]
  },
  {
   "cell_type": "code",
   "execution_count": null,
   "metadata": {},
   "outputs": [],
   "source": [
    "highway networks 는 non_linear 변환 T와 C존재\n",
    "\n",
    "기존 : y = H(x,Wh)\n",
    "highway networks : y = H(x,Wh) * T(x,Wt) + x * C(x,Wc)\n",
    "    #T : transform gate\n",
    "    #C : carry gate"
   ]
  }
 ],
 "metadata": {
  "kernelspec": {
   "display_name": "Python 3",
   "language": "python",
   "name": "python3"
  },
  "language_info": {
   "codemirror_mode": {
    "name": "ipython",
    "version": 3
   },
   "file_extension": ".py",
   "mimetype": "text/x-python",
   "name": "python",
   "nbconvert_exporter": "python",
   "pygments_lexer": "ipython3",
   "version": "3.6.5"
  }
 },
 "nbformat": 4,
 "nbformat_minor": 2
}
