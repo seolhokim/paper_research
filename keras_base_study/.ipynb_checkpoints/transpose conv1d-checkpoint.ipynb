{
 "cells": [
  {
   "cell_type": "code",
   "execution_count": null,
   "metadata": {},
   "outputs": [],
   "source": [
    "zero padding을 낀 convolutional layer\n",
    "upsampling을 할때 사용.\n",
    "\n"
   ]
  },
  {
   "cell_type": "code",
   "execution_count": null,
   "metadata": {},
   "outputs": [],
   "source": [
    "https://zzsza.github.io/data/2018/06/25/upsampling-with-transposed-convolution/"
   ]
  },
  {
   "cell_type": "code",
   "execution_count": null,
   "metadata": {},
   "outputs": [],
   "source": [
    "ex) 2x2 -> 4x4\n",
    "4x1, 16x1 로 flatten\n",
    "Weight matrix = 16x4\n",
    "W * X = Y\n",
    "W에다가 패딩을 넣어 구성하면 됨."
   ]
  }
 ],
 "metadata": {
  "kernelspec": {
   "display_name": "Python 3",
   "language": "python",
   "name": "python3"
  },
  "language_info": {
   "codemirror_mode": {
    "name": "ipython",
    "version": 3
   },
   "file_extension": ".py",
   "mimetype": "text/x-python",
   "name": "python",
   "nbconvert_exporter": "python",
   "pygments_lexer": "ipython3",
   "version": "3.6.5"
  }
 },
 "nbformat": 4,
 "nbformat_minor": 2
}
