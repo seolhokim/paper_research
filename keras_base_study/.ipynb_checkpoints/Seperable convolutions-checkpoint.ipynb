{
 "cells": [
  {
   "cell_type": "code",
   "execution_count": null,
   "metadata": {},
   "outputs": [],
   "source": [
    "#이해하기위해선 \n",
    "\n",
    "#Depthwise convolution과 \n",
    "#pointwise convolution 이해해야함\n",
    "채널간 독립, 공간 방향으로의 상관관계가 크다는 걸 생각하면 seperable convolution 전략이 납득된다는데\n",
    "왜?\n",
    "채널간 독립이므로, 관련없는 kernel이 훑을 필요가 없다. 가 답일듯."
   ]
  },
  {
   "cell_type": "code",
   "execution_count": null,
   "metadata": {},
   "outputs": [],
   "source": [
    "https://github.com/YBIGTA/DeepNLP-Study/wiki/Depthwise-Separable-Convolutions-for-Neural-Machine-Translation\n",
    "https://zzsza.github.io/data/2018/02/23/introduction-convolution/"
   ]
  },
  {
   "cell_type": "code",
   "execution_count": null,
   "metadata": {},
   "outputs": [],
   "source": [
    "#인셉션 모듈에서많이쓰임\n",
    "#파라미터수 많이 줄어서 꼭써야할듯."
   ]
  },
  {
   "cell_type": "code",
   "execution_count": null,
   "metadata": {},
   "outputs": [],
   "source": [
    "Depthwise convolution"
   ]
  },
  {
   "cell_type": "code",
   "execution_count": null,
   "metadata": {},
   "outputs": [],
   "source": [
    "pointwise convolution \n",
    "1x1 "
   ]
  },
  {
   "cell_type": "code",
   "execution_count": null,
   "metadata": {},
   "outputs": [],
   "source": []
  }
 ],
 "metadata": {
  "kernelspec": {
   "display_name": "Python 3",
   "language": "python",
   "name": "python3"
  },
  "language_info": {
   "codemirror_mode": {
    "name": "ipython",
    "version": 3
   },
   "file_extension": ".py",
   "mimetype": "text/x-python",
   "name": "python",
   "nbconvert_exporter": "python",
   "pygments_lexer": "ipython3",
   "version": "3.6.5"
  }
 },
 "nbformat": 4,
 "nbformat_minor": 2
}
