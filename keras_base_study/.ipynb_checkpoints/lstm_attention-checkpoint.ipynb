{
 "cells": [
  {
   "cell_type": "code",
   "execution_count": 1,
   "metadata": {},
   "outputs": [
    {
     "name": "stderr",
     "output_type": "stream",
     "text": [
      "C:\\Users\\sh\\Anaconda3\\lib\\site-packages\\h5py\\__init__.py:36: FutureWarning: Conversion of the second argument of issubdtype from `float` to `np.floating` is deprecated. In future, it will be treated as `np.float64 == np.dtype(float).type`.\n",
      "  from ._conv import register_converters as _register_converters\n",
      "Using TensorFlow backend.\n"
     ]
    }
   ],
   "source": [
    "from keras.models import Model\n",
    "from keras.layers import CuDNNLSTM, Dense, Bidirectional, Input, Dropout\n",
    "from keras import backend as K\n",
    "from keras.engine.topology import Layer\n",
    "from keras import initializers, regularizers, constraints"
   ]
  },
  {
   "cell_type": "code",
   "execution_count": null,
   "metadata": {},
   "outputs": [],
   "source": [
    "#https://www.kaggle.com/suicaokhoailang/lstm-attention-baseline-0-672-lb"
   ]
  },
  {
   "cell_type": "code",
   "execution_count": null,
   "metadata": {},
   "outputs": [],
   "source": [
    "class Attention(Layer):\n",
    "    def __init__(self,step_dim, W_regularizer = None, b_regularizer = None, W_constraint = None, b_constraint = None,\\\n",
    "                bias = True, **kwargs):\n",
    "        self.supports_masking = True\n",
    "        self.init = initializer.get(\"glot_uniform\")\n",
    "        \n",
    "        self.W_regularizer = regularizer.get(W_regularizer)\n",
    "        self.b_regularizer = regularizer.get(b_regularizer)\n",
    "        \n",
    "        self.W_constraint = constraints.get(W_constraint)\n",
    "        self.b_constraint = constraints.get(b_constraint)\n",
    "        \n",
    "        self.bias = bias\n",
    "        self.step_dim = step_dim\n",
    "        self.features_dim = 0  #what is this?\n",
    "        super(Attention, self).__init__(**kwargs)\n",
    "        \n",
    "    def build(self, input_shape):\n",
    "        assert len(input_shape == 3)\n",
    "        \n",
    "        self.W = self.add_weight((input_shape))\n",
    "        \n",
    "        "
   ]
  },
  {
   "cell_type": "code",
   "execution_count": 15,
   "metadata": {},
   "outputs": [],
   "source": [
    "from keras.layers import Input, Embedding, Bidirectional, CuDNNLSTM,LSTM"
   ]
  },
  {
   "cell_type": "code",
   "execution_count": 4,
   "metadata": {},
   "outputs": [],
   "source": [
    "max_sequence_len = 100\n",
    "all_word_count = 10000"
   ]
  },
  {
   "cell_type": "code",
   "execution_count": 18,
   "metadata": {},
   "outputs": [],
   "source": [
    "input_layer = Input(shape =(max_sequence_len,))\n",
    "embedding_layer = Embedding(input_length = max_sequence_len, input_dim = all_word_count+1, output_dim = 256)(input_layer)\n",
    "\n",
    "lstm_1 = (CuDNNLSTM(64,return_sequences = True))(embedding_layer)\n",
    "lstm_2 = (CuDNNLSTM(64,return_sequences = True))(lstm_1)\n",
    "\n",
    "dense_1 = Dense(256, activation = 'relu')(lstm_2)\n",
    "dense_2 = Dense(1,activation = 'softmax')(dense_1)\n",
    "model = Model(input_layer,dense_2)\n"
   ]
  },
  {
   "cell_type": "code",
   "execution_count": 19,
   "metadata": {},
   "outputs": [
    {
     "name": "stdout",
     "output_type": "stream",
     "text": [
      "_________________________________________________________________\n",
      "Layer (type)                 Output Shape              Param #   \n",
      "=================================================================\n",
      "input_9 (InputLayer)         (None, 100)               0         \n",
      "_________________________________________________________________\n",
      "embedding_8 (Embedding)      (None, 100, 256)          2560256   \n",
      "_________________________________________________________________\n",
      "cu_dnnlstm_9 (CuDNNLSTM)     (None, 100, 64)           82432     \n",
      "_________________________________________________________________\n",
      "cu_dnnlstm_10 (CuDNNLSTM)    (None, 100, 64)           33280     \n",
      "_________________________________________________________________\n",
      "dense_7 (Dense)              (None, 100, 256)          16640     \n",
      "_________________________________________________________________\n",
      "dense_8 (Dense)              (None, 100, 1)            257       \n",
      "=================================================================\n",
      "Total params: 2,692,865\n",
      "Trainable params: 2,692,865\n",
      "Non-trainable params: 0\n",
      "_________________________________________________________________\n"
     ]
    }
   ],
   "source": [
    "model.summary()"
   ]
  },
  {
   "cell_type": "code",
   "execution_count": 20,
   "metadata": {},
   "outputs": [
    {
     "name": "stdout",
     "output_type": "stream",
     "text": [
      "[array([[[0.02467629],\n",
      "        [0.06932828],\n",
      "        [0.12936498]]], dtype=float32), array([[0.12936498]], dtype=float32), array([[0.23968321]], dtype=float32)]\n"
     ]
    }
   ],
   "source": []
  },
  {
   "cell_type": "code",
   "execution_count": 21,
   "metadata": {},
   "outputs": [
    {
     "name": "stdout",
     "output_type": "stream",
     "text": [
      "[array([[[-0.00969578, -0.01281   , -0.01440885],\n",
      "        [-0.02803909, -0.0363882 , -0.0364229 ],\n",
      "        [-0.05445516, -0.06887093, -0.06167272]]], dtype=float32), array([[-0.05445516, -0.06887093, -0.06167272]], dtype=float32), array([[-0.10123196, -0.1394502 , -0.13288762]], dtype=float32)]\n"
     ]
    }
   ],
   "source": []
  },
  {
   "cell_type": "code",
   "execution_count": null,
   "metadata": {},
   "outputs": [],
   "source": []
  }
 ],
 "metadata": {
  "kernelspec": {
   "display_name": "Python 3",
   "language": "python",
   "name": "python3"
  },
  "language_info": {
   "codemirror_mode": {
    "name": "ipython",
    "version": 3
   },
   "file_extension": ".py",
   "mimetype": "text/x-python",
   "name": "python",
   "nbconvert_exporter": "python",
   "pygments_lexer": "ipython3",
   "version": "3.6.5"
  }
 },
 "nbformat": 4,
 "nbformat_minor": 2
}
