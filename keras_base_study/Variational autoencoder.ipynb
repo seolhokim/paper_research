{
 "cells": [
  {
   "cell_type": "code",
   "execution_count": 10,
   "metadata": {},
   "outputs": [],
   "source": [
    "from keras.datasets import mnist\n",
    "from keras.layers import Input,Dense, Conv2D,MaxPooling2D,Dropout,Flatten,Lambda, Layer,Reshape, Conv2DTranspose\n",
    "from keras.models import Model\n",
    "import keras.backend as K\n",
    "from keras.utils import np_utils\n",
    "from keras.callbacks import TensorBoard\n",
    "import cv2\n",
    "import numpy as np\n",
    "from keras.metrics import binary_crossentropy"
   ]
  },
  {
   "cell_type": "code",
   "execution_count": 11,
   "metadata": {},
   "outputs": [],
   "source": [
    "import matplotlib.pyplot as plt"
   ]
  },
  {
   "cell_type": "code",
   "execution_count": 12,
   "metadata": {},
   "outputs": [],
   "source": [
    "tensorboard = TensorBoard(log_dir='./logs', histogram_freq=1,\n",
    "                          write_graph=True, write_images=False)"
   ]
  },
  {
   "cell_type": "code",
   "execution_count": 13,
   "metadata": {},
   "outputs": [],
   "source": [
    "(X_train, Y_train), (X_test, Y_test) = mnist.load_data()\n",
    "X_train = X_train.reshape(X_train.shape[0],28, 28,1).astype('float32') \n",
    "X_test = X_test.reshape(X_test.shape[0],28, 28,1).astype('float32')\n",
    "\n",
    "\n",
    "X_train = X_train / 255\n",
    "X_test = X_test / 255"
   ]
  },
  {
   "cell_type": "code",
   "execution_count": 14,
   "metadata": {},
   "outputs": [],
   "source": [
    "Y_train = np_utils.to_categorical(Y_train)\n",
    "Y_test = np_utils.to_categorical(Y_test)\n",
    "num_classes = Y_test.shape[1]\n"
   ]
  },
  {
   "cell_type": "code",
   "execution_count": null,
   "metadata": {},
   "outputs": [],
   "source": [
    "latent_dim = 2"
   ]
  },
  {
   "cell_type": "code",
   "execution_count": 15,
   "metadata": {},
   "outputs": [
    {
     "data": {
      "text/plain": [
       "(60000, 28, 28, 1)"
      ]
     },
     "execution_count": 15,
     "metadata": {},
     "output_type": "execute_result"
    }
   ],
   "source": [
    "X_train.shape"
   ]
  },
  {
   "cell_type": "code",
   "execution_count": 20,
   "metadata": {},
   "outputs": [],
   "source": [
    "input_layer = Input(shape=(X_train.shape[1],X_train.shape[2],X_train.shape[3]))\n",
    "\n",
    "conv_1 = Conv2D(32,(3,3), padding='same',activation = 'relu')(input_layer)\n",
    "conv_2 = Conv2D(64,(3,3), padding='same',activation = 'relu',strides=(2,2))(conv_1)\n",
    "conv_3 = Conv2D(64,(3,3), padding='same',activation = 'relu')(conv_2)\n",
    "conv_4 = Conv2D(64,(3,3), padding='same',activation = 'relu')(conv_3)\n",
    "\n",
    "flat = Flatten()(conv_4)\n",
    "dense_1 = Dense(32, activation = 'relu')(flat)\n",
    "\n",
    "z_mean = Dense(latent_dim)(dense_1)\n",
    "z_log_var = Dense(latent_dim)(dense_1)\n",
    "\n",
    "shape_before_flattening = K.int_shape(conv_4)"
   ]
  },
  {
   "cell_type": "code",
   "execution_count": 29,
   "metadata": {},
   "outputs": [],
   "source": [
    "def sampling(input_layer):\n",
    "    \n",
    "    z_mean,z_log_var = input_layer\n",
    "    epsilon = K.random_normal(shape = (K.shape(z_mean)[0],latent_dim), mean=0., stddev = 1.)\n",
    "    return z_mean + K.exp(0.5 * z_log_var) * epsilon\n",
    "z = Lambda(sampling)([z_mean,z_log_var])"
   ]
  },
  {
   "cell_type": "code",
   "execution_count": 40,
   "metadata": {},
   "outputs": [],
   "source": [
    "decoder_input = Input(shape= (K.int_shape(z)[1:]))\n",
    "\n",
    "decode_dense_1 = Dense(np.prod(shape_before_flattening[1:]),activation = 'relu')(decoder_input)\n",
    "decode_dense_2= Reshape(shape_before_flattening[1:])(decode_dense_1)\n",
    "\n",
    "trans_conv2d = Conv2DTranspose(32,(3,3),padding='same',activation = 'relu',strides = (2,2))(decode_dense_2)\n",
    "\n",
    "decoder_conv2d_1 = Conv2D(1,(3,3), padding='same', activation = 'sigmoid')(trans_conv2d)\n",
    "\n",
    "decoder = Model(decoder_input,decoder_conv2d_1)\n",
    "\n",
    "z_decoded = decoder(z)"
   ]
  },
  {
   "cell_type": "code",
   "execution_count": 44,
   "metadata": {},
   "outputs": [],
   "source": []
  },
  {
   "cell_type": "code",
   "execution_count": 62,
   "metadata": {},
   "outputs": [],
   "source": [
    "class CustomerVariationalLayer(Layer):\n",
    "    def vae_loss(self,x,z_decoded):\n",
    "        x = K.flatten(x)\n",
    "        z_decoded = K.flatten(z_decoded)\n",
    "        xent_loss = binary_crossentropy(x,z_decoded)\n",
    "        kl_loss = -5e-4 * K.mean(1+ z_log_var - K.square(z_mean) - K.exp(z_log_var),axis=-1)\n",
    "        return K.mean(xent_loss+kl_loss)\n",
    "    def call(self, inputs):\n",
    "        x = inputs[0]\n",
    "        z_decoded = inputs[1]\n",
    "        loss = self.vae_loss(x,z_decoded)\n",
    "        self.add_loss(loss,inputs = inputs)\n",
    "        return x\n",
    "    \n"
   ]
  },
  {
   "cell_type": "code",
   "execution_count": 63,
   "metadata": {},
   "outputs": [],
   "source": [
    "y = CustomerVariationalLayer()([input_layer, z_decoded])"
   ]
  },
  {
   "cell_type": "code",
   "execution_count": 64,
   "metadata": {},
   "outputs": [],
   "source": [
    "vae = Model(input_layer, y)"
   ]
  },
  {
   "cell_type": "code",
   "execution_count": 65,
   "metadata": {},
   "outputs": [],
   "source": [
    "vae.compile(optimizer = 'rmsprop')"
   ]
  },
  {
   "cell_type": "code",
   "execution_count": 66,
   "metadata": {},
   "outputs": [
    {
     "name": "stdout",
     "output_type": "stream",
     "text": [
      "__________________________________________________________________________________________________\n",
      "Layer (type)                    Output Shape         Param #     Connected to                     \n",
      "==================================================================================================\n",
      "input_5 (InputLayer)            (None, 28, 28, 1)    0                                            \n",
      "__________________________________________________________________________________________________\n",
      "conv2d_12 (Conv2D)              (None, 28, 28, 32)   320         input_5[0][0]                    \n",
      "__________________________________________________________________________________________________\n",
      "conv2d_13 (Conv2D)              (None, 14, 14, 64)   18496       conv2d_12[0][0]                  \n",
      "__________________________________________________________________________________________________\n",
      "conv2d_14 (Conv2D)              (None, 14, 14, 64)   36928       conv2d_13[0][0]                  \n",
      "__________________________________________________________________________________________________\n",
      "conv2d_15 (Conv2D)              (None, 14, 14, 64)   36928       conv2d_14[0][0]                  \n",
      "__________________________________________________________________________________________________\n",
      "flatten_3 (Flatten)             (None, 12544)        0           conv2d_15[0][0]                  \n",
      "__________________________________________________________________________________________________\n",
      "dense_5 (Dense)                 (None, 32)           401440      flatten_3[0][0]                  \n",
      "__________________________________________________________________________________________________\n",
      "dense_6 (Dense)                 (None, 2)            66          dense_5[0][0]                    \n",
      "__________________________________________________________________________________________________\n",
      "dense_7 (Dense)                 (None, 2)            66          dense_5[0][0]                    \n",
      "__________________________________________________________________________________________________\n",
      "lambda_4 (Lambda)               (None, 2)            0           dense_6[0][0]                    \n",
      "                                                                 dense_7[0][0]                    \n",
      "__________________________________________________________________________________________________\n",
      "model_2 (Model)                 (None, 28, 28, 1)    56385       lambda_4[0][0]                   \n",
      "__________________________________________________________________________________________________\n",
      "customer_variational_layer_7 (C [(None, 28, 28, 1),  0           input_5[0][0]                    \n",
      "                                                                 model_2[1][0]                    \n",
      "==================================================================================================\n",
      "Total params: 550,629\n",
      "Trainable params: 550,629\n",
      "Non-trainable params: 0\n",
      "__________________________________________________________________________________________________\n"
     ]
    }
   ],
   "source": [
    "vae.summary()"
   ]
  },
  {
   "cell_type": "code",
   "execution_count": null,
   "metadata": {},
   "outputs": [
    {
     "name": "stdout",
     "output_type": "stream",
     "text": [
      "Train on 60000 samples, validate on 10000 samples\n"
     ]
    }
   ],
   "source": [
    "batch_size = 128\n",
    "num_epoch = 3\n",
    "#model training\n",
    "model_log = vae.fit(x = X_train,y=None ,\n",
    "          batch_size=batch_size,\n",
    "          epochs=num_epoch,\n",
    "          verbose=1,\n",
    "          validation_data=(X_test, None), callbacks =[tensorboard])"
   ]
  },
  {
   "cell_type": "code",
   "execution_count": null,
   "metadata": {},
   "outputs": [],
   "source": []
  }
 ],
 "metadata": {
  "kernelspec": {
   "display_name": "Python 3",
   "language": "python",
   "name": "python3"
  },
  "language_info": {
   "codemirror_mode": {
    "name": "ipython",
    "version": 3
   },
   "file_extension": ".py",
   "mimetype": "text/x-python",
   "name": "python",
   "nbconvert_exporter": "python",
   "pygments_lexer": "ipython3",
   "version": "3.6.5"
  }
 },
 "nbformat": 4,
 "nbformat_minor": 2
}
