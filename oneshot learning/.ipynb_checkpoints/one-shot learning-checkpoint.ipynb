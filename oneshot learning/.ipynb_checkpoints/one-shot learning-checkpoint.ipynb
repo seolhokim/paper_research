{
 "cells": [
  {
   "cell_type": "code",
   "execution_count": null,
   "metadata": {},
   "outputs": [],
   "source": [
    "https://jayhey.github.io/deep%20learning/2018/02/06/saimese_network/"
   ]
  },
  {
   "cell_type": "code",
   "execution_count": null,
   "metadata": {},
   "outputs": [],
   "source": [
    "#conv 로 샴 네트워크를 짜고, L1 거리를 구해줌으로써, 비슷한 물체인지 검사함,\n",
    "#one - hundred shot 으로도 어려운 fitting을 같은 network를 통과시키고 L1를 구함으로, oneshot에 해결가능한것"
   ]
  }
 ],
 "metadata": {
  "kernelspec": {
   "display_name": "Python 3",
   "language": "python",
   "name": "python3"
  },
  "language_info": {
   "codemirror_mode": {
    "name": "ipython",
    "version": 3
   },
   "file_extension": ".py",
   "mimetype": "text/x-python",
   "name": "python",
   "nbconvert_exporter": "python",
   "pygments_lexer": "ipython3",
   "version": "3.6.5"
  }
 },
 "nbformat": 4,
 "nbformat_minor": 2
}
